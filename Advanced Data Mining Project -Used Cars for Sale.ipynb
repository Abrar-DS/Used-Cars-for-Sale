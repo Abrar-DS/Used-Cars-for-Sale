{
 "cells": [
  {
   "cell_type": "markdown",
   "metadata": {},
   "source": [
    "# Advanced Data Mining Project \n",
    "### CRN:21999\n",
    " \n",
    "\n",
    "\n",
    "Students Names: \n",
    "\n",
    "Abrar Radin.........G220054885 \n",
    "\n",
    "Badour bin Salamah..G220000783\n",
    "\n",
    "\n"
   ]
  },
  {
   "cell_type": "markdown",
   "metadata": {},
   "source": [
    "## Table of content \n",
    "\n",
    "Task one...............Choose Dataset.\n",
    "\n",
    "Task two ..............Data Pre-processing.\n",
    "\n",
    "Task Threee............Exploratory Data Analysis.\n",
    "\n",
    "Task Four..............Bulding Model. "
   ]
  },
  {
   "cell_type": "markdown",
   "metadata": {},
   "source": [
    "data set Link : https://www.kaggle.com/datasets/mirosval/personal-cars-classifieds"
   ]
  },
  {
   "cell_type": "code",
   "execution_count": 1,
   "metadata": {
    "id": "UvMOnqHA8yFx"
   },
   "outputs": [],
   "source": [
    "# import warning\n",
    "import warnings\n",
    "warnings.filterwarnings('ignore')"
   ]
  },
  {
   "cell_type": "code",
   "execution_count": 2,
   "metadata": {
    "id": "bp00q_s-Lgz2"
   },
   "outputs": [],
   "source": [
    "# import analysis libraries\n",
    "import pandas as pd\n",
    "import numpy as np\n",
    "import matplotlib.pyplot as plt\n",
    "import seaborn as sns\n",
    "%matplotlib inline\n"
   ]
  },
  {
   "cell_type": "markdown",
   "metadata": {
    "id": "XqMP7oyDW4bJ"
   },
   "source": [
    "# Task 1: Choose a Dataset\n",
    "Choose a dataset from Kaggle.com or any other repository. The dataset size must be not less than 20 Mbytes (uncompressed).\n",
    "Note: The dataset must have missing values, noise and outliers"
   ]
  },
  {
   "cell_type": "code",
   "execution_count": 3,
   "metadata": {
    "id": "RQ7ISTD3WpHT"
   },
   "outputs": [
    {
     "data": {
      "text/html": [
       "<div>\n",
       "<style scoped>\n",
       "    .dataframe tbody tr th:only-of-type {\n",
       "        vertical-align: middle;\n",
       "    }\n",
       "\n",
       "    .dataframe tbody tr th {\n",
       "        vertical-align: top;\n",
       "    }\n",
       "\n",
       "    .dataframe thead th {\n",
       "        text-align: right;\n",
       "    }\n",
       "</style>\n",
       "<table border=\"1\" class=\"dataframe\">\n",
       "  <thead>\n",
       "    <tr style=\"text-align: right;\">\n",
       "      <th></th>\n",
       "      <th>maker</th>\n",
       "      <th>model</th>\n",
       "      <th>mileage</th>\n",
       "      <th>manufacture_year</th>\n",
       "      <th>engine_displacement</th>\n",
       "      <th>engine_power</th>\n",
       "      <th>body_type</th>\n",
       "      <th>color_slug</th>\n",
       "      <th>stk_year</th>\n",
       "      <th>transmission</th>\n",
       "      <th>door_count</th>\n",
       "      <th>seat_count</th>\n",
       "      <th>fuel_type</th>\n",
       "      <th>date_created</th>\n",
       "      <th>date_last_seen</th>\n",
       "      <th>price_eur</th>\n",
       "    </tr>\n",
       "  </thead>\n",
       "  <tbody>\n",
       "    <tr>\n",
       "      <th>0</th>\n",
       "      <td>ford</td>\n",
       "      <td>galaxy</td>\n",
       "      <td>151000.0</td>\n",
       "      <td>2011.0</td>\n",
       "      <td>2000.0</td>\n",
       "      <td>103.0</td>\n",
       "      <td>NaN</td>\n",
       "      <td>NaN</td>\n",
       "      <td>None</td>\n",
       "      <td>man</td>\n",
       "      <td>5</td>\n",
       "      <td>7</td>\n",
       "      <td>diesel</td>\n",
       "      <td>2015-11-14 18:10:06.838319+00</td>\n",
       "      <td>2016-01-27 20:40:15.46361+00</td>\n",
       "      <td>10584.75</td>\n",
       "    </tr>\n",
       "    <tr>\n",
       "      <th>1</th>\n",
       "      <td>skoda</td>\n",
       "      <td>octavia</td>\n",
       "      <td>143476.0</td>\n",
       "      <td>2012.0</td>\n",
       "      <td>2000.0</td>\n",
       "      <td>81.0</td>\n",
       "      <td>NaN</td>\n",
       "      <td>NaN</td>\n",
       "      <td>None</td>\n",
       "      <td>man</td>\n",
       "      <td>5</td>\n",
       "      <td>5</td>\n",
       "      <td>diesel</td>\n",
       "      <td>2015-11-14 18:10:06.853411+00</td>\n",
       "      <td>2016-01-27 20:40:15.46361+00</td>\n",
       "      <td>8882.31</td>\n",
       "    </tr>\n",
       "    <tr>\n",
       "      <th>2</th>\n",
       "      <td>bmw</td>\n",
       "      <td>NaN</td>\n",
       "      <td>97676.0</td>\n",
       "      <td>2010.0</td>\n",
       "      <td>1995.0</td>\n",
       "      <td>85.0</td>\n",
       "      <td>NaN</td>\n",
       "      <td>NaN</td>\n",
       "      <td>None</td>\n",
       "      <td>man</td>\n",
       "      <td>5</td>\n",
       "      <td>5</td>\n",
       "      <td>diesel</td>\n",
       "      <td>2015-11-14 18:10:06.861792+00</td>\n",
       "      <td>2016-01-27 20:40:15.46361+00</td>\n",
       "      <td>12065.06</td>\n",
       "    </tr>\n",
       "    <tr>\n",
       "      <th>3</th>\n",
       "      <td>skoda</td>\n",
       "      <td>fabia</td>\n",
       "      <td>111970.0</td>\n",
       "      <td>2004.0</td>\n",
       "      <td>1200.0</td>\n",
       "      <td>47.0</td>\n",
       "      <td>NaN</td>\n",
       "      <td>NaN</td>\n",
       "      <td>None</td>\n",
       "      <td>man</td>\n",
       "      <td>5</td>\n",
       "      <td>5</td>\n",
       "      <td>gasoline</td>\n",
       "      <td>2015-11-14 18:10:06.872313+00</td>\n",
       "      <td>2016-01-27 20:40:15.46361+00</td>\n",
       "      <td>2960.77</td>\n",
       "    </tr>\n",
       "    <tr>\n",
       "      <th>4</th>\n",
       "      <td>skoda</td>\n",
       "      <td>fabia</td>\n",
       "      <td>128886.0</td>\n",
       "      <td>2004.0</td>\n",
       "      <td>1200.0</td>\n",
       "      <td>47.0</td>\n",
       "      <td>NaN</td>\n",
       "      <td>NaN</td>\n",
       "      <td>None</td>\n",
       "      <td>man</td>\n",
       "      <td>5</td>\n",
       "      <td>5</td>\n",
       "      <td>gasoline</td>\n",
       "      <td>2015-11-14 18:10:06.880335+00</td>\n",
       "      <td>2016-01-27 20:40:15.46361+00</td>\n",
       "      <td>2738.71</td>\n",
       "    </tr>\n",
       "  </tbody>\n",
       "</table>\n",
       "</div>"
      ],
      "text/plain": [
       "   maker    model   mileage  manufacture_year  engine_displacement  \\\n",
       "0   ford   galaxy  151000.0            2011.0               2000.0   \n",
       "1  skoda  octavia  143476.0            2012.0               2000.0   \n",
       "2    bmw      NaN   97676.0            2010.0               1995.0   \n",
       "3  skoda    fabia  111970.0            2004.0               1200.0   \n",
       "4  skoda    fabia  128886.0            2004.0               1200.0   \n",
       "\n",
       "   engine_power body_type color_slug stk_year transmission door_count  \\\n",
       "0         103.0       NaN        NaN     None          man          5   \n",
       "1          81.0       NaN        NaN     None          man          5   \n",
       "2          85.0       NaN        NaN     None          man          5   \n",
       "3          47.0       NaN        NaN     None          man          5   \n",
       "4          47.0       NaN        NaN     None          man          5   \n",
       "\n",
       "  seat_count fuel_type                   date_created  \\\n",
       "0          7    diesel  2015-11-14 18:10:06.838319+00   \n",
       "1          5    diesel  2015-11-14 18:10:06.853411+00   \n",
       "2          5    diesel  2015-11-14 18:10:06.861792+00   \n",
       "3          5  gasoline  2015-11-14 18:10:06.872313+00   \n",
       "4          5  gasoline  2015-11-14 18:10:06.880335+00   \n",
       "\n",
       "                 date_last_seen  price_eur  \n",
       "0  2016-01-27 20:40:15.46361+00   10584.75  \n",
       "1  2016-01-27 20:40:15.46361+00    8882.31  \n",
       "2  2016-01-27 20:40:15.46361+00   12065.06  \n",
       "3  2016-01-27 20:40:15.46361+00    2960.77  \n",
       "4  2016-01-27 20:40:15.46361+00    2738.71  "
      ]
     },
     "execution_count": 3,
     "metadata": {},
     "output_type": "execute_result"
    }
   ],
   "source": [
    "\n",
    "# Load and Read Data\n",
    "data = pd.read_csv(\"Classified_Ads_for_Cars.csv\")\n",
    "data.head()\n"
   ]
  },
  {
   "cell_type": "code",
   "execution_count": 4,
   "metadata": {
    "id": "u0tiQqIvL0DJ"
   },
   "outputs": [],
   "source": [
    "# create dataset copy's\n",
    "\n",
    "df = data.copy()"
   ]
  },
  {
   "cell_type": "code",
   "execution_count": 5,
   "metadata": {
    "colab": {
     "base_uri": "https://localhost:8080/"
    },
    "id": "Lrkv_ciKXjmJ",
    "outputId": "26f4fcc6-78d5-44bc-fb60-b4aeaae304ba"
   },
   "outputs": [
    {
     "name": "stdout",
     "output_type": "stream",
     "text": [
      "\n",
      " data shape is  (3552912, 16)\n"
     ]
    }
   ],
   "source": [
    "# print shape of the data set \n",
    "print('\\n', \"data shape is \",df.shape )"
   ]
  },
  {
   "cell_type": "markdown",
   "metadata": {
    "id": "vL6CHzIzYGJ3"
   },
   "source": [
    "# Task 2: Data Pre-processing\n",
    "Read and understand the data carefully. What are the issues (e.g., missing values or noise) that you noticed in the dataset? Apply any cleaning method that you find fit and provide justification of your decisions. Your data cleaning should be comprehensive."
   ]
  },
  {
   "cell_type": "code",
   "execution_count": 6,
   "metadata": {
    "colab": {
     "base_uri": "https://localhost:8080/"
    },
    "id": "_Nb8usRGxUgJ",
    "outputId": "e0be30cd-f71b-44f6-9fcb-b6004e4f2083"
   },
   "outputs": [
    {
     "name": "stdout",
     "output_type": "stream",
     "text": [
      "<class 'pandas.core.frame.DataFrame'>\n",
      "RangeIndex: 3552912 entries, 0 to 3552911\n",
      "Data columns (total 16 columns):\n",
      " #   Column               Dtype  \n",
      "---  ------               -----  \n",
      " 0   maker                object \n",
      " 1   model                object \n",
      " 2   mileage              float64\n",
      " 3   manufacture_year     float64\n",
      " 4   engine_displacement  float64\n",
      " 5   engine_power         float64\n",
      " 6   body_type            object \n",
      " 7   color_slug           object \n",
      " 8   stk_year             object \n",
      " 9   transmission         object \n",
      " 10  door_count           object \n",
      " 11  seat_count           object \n",
      " 12  fuel_type            object \n",
      " 13  date_created         object \n",
      " 14  date_last_seen       object \n",
      " 15  price_eur            float64\n",
      "dtypes: float64(5), object(11)\n",
      "memory usage: 433.7+ MB\n"
     ]
    }
   ],
   "source": [
    "# Get more info about dataset\n",
    "\n",
    "df.info()"
   ]
  },
  {
   "cell_type": "code",
   "execution_count": 7,
   "metadata": {
    "colab": {
     "base_uri": "https://localhost:8080/"
    },
    "id": "dV3zFuq3NyMp",
    "outputId": "8bd1f08f-e2bd-4659-d946-80efbddb9724"
   },
   "outputs": [
    {
     "name": "stdout",
     "output_type": "stream",
     "text": [
      "Number of duplicates:  0\n"
     ]
    }
   ],
   "source": [
    "# check data for duplicates\n",
    "\n",
    "print(\"Number of duplicates: \", sum(df.duplicated()))"
   ]
  },
  {
   "cell_type": "markdown",
   "metadata": {
    "id": "1J7qWspFxb6R"
   },
   "source": [
    "The dataset has no dupicate values, we can proceed on with the analysis to check for missing values."
   ]
  },
  {
   "cell_type": "code",
   "execution_count": 8,
   "metadata": {
    "colab": {
     "base_uri": "https://localhost:8080/"
    },
    "id": "9JufvdIIN3Eb",
    "outputId": "1c7bfe2a-3f1b-4dba-85ff-405a58b10242"
   },
   "outputs": [
    {
     "name": "stdout",
     "output_type": "stream",
     "text": [
      "Number of missing values:  13811308\n"
     ]
    }
   ],
   "source": [
    "# check data for missing values\n",
    "\n",
    "print(\"Number of missing values: \", df.isnull().sum().sum())"
   ]
  },
  {
   "cell_type": "code",
   "execution_count": 9,
   "metadata": {
    "colab": {
     "base_uri": "https://localhost:8080/"
    },
    "id": "T6ptN9c4Y_Ws",
    "outputId": "6c7c59e4-00d1-4500-9a88-c1a15dae5e62"
   },
   "outputs": [
    {
     "name": "stdout",
     "output_type": "stream",
     "text": [
      "maker                  14.605343\n",
      "model                  31.899495\n",
      "mileage                10.205263\n",
      "manufacture_year       10.430261\n",
      "engine_displacement    20.924076\n",
      "engine_power           15.617527\n",
      "body_type              31.605455\n",
      "color_slug             94.103400\n",
      "stk_year               48.077633\n",
      "transmission           20.873863\n",
      "door_count             17.292097\n",
      "seat_count             21.095062\n",
      "fuel_type              52.002583\n",
      "dtype: float64\n"
     ]
    }
   ],
   "source": [
    "# show columns with missing values with their percentage(XX.XX%) \n",
    "\n",
    "print(df.isnull().sum()[df.isnull().sum() > 0] / df.shape[0] * 100)"
   ]
  },
  {
   "cell_type": "code",
   "execution_count": 10,
   "metadata": {},
   "outputs": [
    {
     "name": "stdout",
     "output_type": "stream",
     "text": [
      "Col:  seat_count\n",
      "['7' '5' '4' 'None' '6' '9' '8' '2' '3' '1' '18' '20' '10' '11' '15' '12'\n",
      " '16' '14' '50' '17' '74' '65' '19' '54' '13' '27' '45' '24' '56' '22'\n",
      " '255' '23' '57' '25' nan 5.0 3.0 4.0 2.0 7.0 8.0 6.0 9.0 23.0 1.0 51.0\n",
      " 12.0 15.0 14.0 55.0 19.0 61.0 21.0 13.0 17.0 20.0 10.0 11.0 18.0 45.0\n",
      " 27.0 53.0 26.0 56.0 58.0 25.0 30.0 36.0 54.0 24.0 16.0 57.0 74.0 50.0 0.0\n",
      " 29.0 52.0 32.0 44.0 512.0 33.0 515.0 59.0 85.0 517.0 81.0 43.0 49.0 138.0]\n",
      "\n",
      "Col:  door_count\n",
      "['5' '3' '4' 'None' '2' '6' '1' '7' nan 5.0 4.0 3.0 2.0 6.0 1.0 9.0 7.0\n",
      " 8.0 77.0 58.0 54.0 0.0 55.0 22.0 45.0 17.0 49.0]\n",
      "\n",
      "Col:  stk_year\n",
      "['None' '2017' '2016' '2015' '2018' '2107' '3000' '6800' '7900' '9500'\n",
      " '7990' '7732' '7201' '5900' '7761' '2019' '2500' '7762' '7257' '2680'\n",
      " '3600' '7375' '4000' '2100' '7310' '7765' '2101' '8000' '8200' '4500'\n",
      " '6047' '9000' '2200' '2280' '5500' '3500' '2250' '3200' '2108' '2071'\n",
      " '7000' '2600' '6000' '2510' '2295' '5000' '2020' '7500' '3300' '3900'\n",
      " '6500' '2900' '7399' '5800' '5300' '7800' '4300' '6300' '6083' '6086'\n",
      " '6062' '5990' '4900' '2240' '3800' '2117' '8500' '2734' '6037' '6201'\n",
      " '4700' '6016' '2470' '2990' '5200' '9990' '2040' '2300' '5017' '7366'\n",
      " '8990' '6990' '4990' '4060' '7325' '7221' '3700' '2999' '3103' '2508'\n",
      " '7770' '2800' '8900' '2150' '9700' '9900' '2400' '2116' '6900' '7743'\n",
      " '2480' '2021' '7746' '2650' '9325' '2023' '5700' '4400' '6999' '7289'\n",
      " '9200' '3080' nan 2018.0 2016.0 2017.0 2019.0 3017.0 2235.0 3000.0 3500.0\n",
      " 2201.0 2020.0 2021.0 6300.0 2500.0 3380.0 7900.0 2518.0 7217.0 2050.0\n",
      " 7770.0 5100.0 8000.0 6049.0 6500.0 6045.0 4400.0 4500.0 2350.0 2800.0\n",
      " 7367.0 5500.0 7314.0 7300.0 8800.0 2890.0 5800.0 5300.0 2070.0 3600.0\n",
      " 2075.0 9500.0 4390.0 2211.0 2600.0 4300.0 2670.0 2060.0 2080.0 2108.0\n",
      " 8490.0 2117.0 3150.0 4700.0 5015.0 2150.0 5900.0 8201.0 5490.0 2290.0\n",
      " 3999.0 2900.0 3200.0 2750.0 7000.0 7800.0 4200.0 2400.0 6069.0 2048.0\n",
      " 5018.0 3800.0 6900.0 6200.0 8200.0 5990.0 3900.0 6052.0 6790.0 9900.0\n",
      " 2540.0 2990.0 4900.0 4720.0 7279.0 2300.0 4100.0 8500.0 9600.0 6082.0\n",
      " 5600.0 8700.0 2200.0 7200.0 6800.0 2950.0 7026.0 9156.0 2730.0 2424.0\n",
      " 2101.0 2650.0 6042.0 5000.0 3180.0 9300.0 2301.0 2041.0 4201.0 4290.0\n",
      " 3100.0 3314.0 2110.0 9800.0 2382.0 7223.0 6590.0 2550.0 2490.0 3460.0\n",
      " 4000.0 3300.0 5700.0 2560.0 5035.0 7250.0 6000.0 7766.0 8900.0 2445.0\n",
      " 3171.0 9223.0 9100.0 3620.0 7282.0 4990.0 9200.0 2280.0 6201.0 4999.0\n",
      " 2520.0 2850.0 3648.0 6089.0 2120.0 3990.0 2100.0 2180.0 4800.0 2071.0\n",
      " 5790.0 2118.0 2270.0 2460.0 3520.0 2507.0 9990.0 2390.0 3201.0 5899.0\n",
      " 7773.0 8456.0 7776.0 8654.0 7224.0 3660.0 2440.0 3700.0 2984.0 7744.0\n",
      " 4490.0 7396.0 2250.0 6700.0 7880.0 3070.0 2700.0 3786.0 3130.0 2090.0\n",
      " 3279.0 2107.0 6600.0 7768.0 7746.0 2199.0 7738.0 9000.0]\n",
      "\n"
     ]
    }
   ],
   "source": [
    "df_unexpected = df[[ 'seat_count', 'door_count', 'stk_year']]\n",
    "for col in df_unexpected.columns:\n",
    "    print(\"Col: \", col)\n",
    "    # to print unique values only\n",
    "    print(df_unexpected[col].unique(), end='\\n\\n') \n",
    "    "
   ]
  },
  {
   "cell_type": "raw",
   "metadata": {},
   "source": [
    "Here we can see unexpected data \n",
    "- in seat count there are unexpected seat count such as 517, 513\n",
    "- in door count also there are unexpected door count such as 77, 58 and some of data types are string and the others are float \n",
    "- in stk_year there are unexpected data too such as 7738, 8700 which is unreliable years\n",
    "\n",
    "To deal with this issue \n",
    "- we will remove unexpected seat count\n",
    "- we will drop door count column because it is unnecessary data and dose not affect car price \n",
    "- For stk_year because most of the years are unreliable we will drop the column too. \n"
   ]
  },
  {
   "cell_type": "code",
   "execution_count": 11,
   "metadata": {},
   "outputs": [
    {
     "name": "stdout",
     "output_type": "stream",
     "text": [
      "[ 7.  5.  4. nan  6.  9.  8.  2.  3.  1. 18. 20. 10. 11. 15. 12. 16. 14.\n",
      " 50. 17. 19. 54. 13. 27. 45. 24. 56. 22. 23. 57. 25. 51. 55. 61. 21. 53.\n",
      " 26. 58. 30. 36.  0. 29. 52. 32. 44. 33. 59. 43. 49.]\n"
     ]
    }
   ],
   "source": [
    "#Using drop() to delete rows based on column value\n",
    "df['seat_count'] = pd.to_numeric(df['seat_count'], errors=\"coerce\")\n",
    "df.drop(df[df['seat_count'] >= 65].index, inplace = True)\n",
    "# print seat count values to make sure unexpected data are removed \n",
    "print(df[ 'seat_count'].unique())"
   ]
  },
  {
   "cell_type": "markdown",
   "metadata": {
    "id": "9IYa3cuBxt7W"
   },
   "source": [
    "The color slug columns has 94% of the data missing. The best approach would be to drop the whole column as imputation in this case is not possible"
   ]
  },
  {
   "cell_type": "code",
   "execution_count": 12,
   "metadata": {
    "colab": {
     "base_uri": "https://localhost:8080/",
     "height": 324
    },
    "id": "hE4dpUJXOGIO",
    "outputId": "8a2f655d-995d-4166-88dc-2ac5cdee8455"
   },
   "outputs": [
    {
     "data": {
      "text/plain": [
       "Index(['maker', 'model', 'mileage', 'manufacture_year', 'engine_displacement',\n",
       "       'engine_power', 'body_type', 'transmission', 'seat_count', 'fuel_type',\n",
       "       'date_created', 'date_last_seen', 'price_eur'],\n",
       "      dtype='object')"
      ]
     },
     "execution_count": 12,
     "metadata": {},
     "output_type": "execute_result"
    }
   ],
   "source": [
    "# drop color_slug column\n",
    "features_to_drop = [ 'stk_year', 'color_slug', 'door_count']\n",
    "\n",
    "df.drop(features_to_drop, axis=1, inplace=True)\n",
    "\n",
    "#print dataset columns to make sure that the columns are dropped \n",
    "\n",
    "df.columns"
   ]
  },
  {
   "cell_type": "markdown",
   "metadata": {
    "id": "jVBRa8Kdx2U4"
   },
   "source": [
    "### Filling columns with missing values"
   ]
  },
  {
   "cell_type": "code",
   "execution_count": 13,
   "metadata": {
    "colab": {
     "base_uri": "https://localhost:8080/"
    },
    "id": "vCAxHInHZ3DT",
    "outputId": "e80a8097-30c6-4a48-f8e1-b5578e124b27"
   },
   "outputs": [
    {
     "name": "stdout",
     "output_type": "stream",
     "text": [
      "Number of missing values:  0\n"
     ]
    }
   ],
   "source": [
    "# replacing missing values \n",
    "\n",
    "# get numeric columns with missing values\n",
    "num_cols = df.select_dtypes(include=['int64', 'float64']).columns\n",
    "\n",
    "# fill missing values with mean\n",
    "for col in num_cols:\n",
    "    df[col].fillna(df[col].mean(), inplace=True)\n",
    "\n",
    "# get categorical columns with missing values\n",
    "cat_cols = df.select_dtypes(include=['object']).columns\n",
    "\n",
    "# fill missing values with mode\n",
    "for col in cat_cols:\n",
    "    df[col].fillna(df[col].mode()[0], inplace=True)\n",
    "\n",
    "# check data for missing values\n",
    "print(\"Number of missing values: \", df.isnull().sum().sum())"
   ]
  },
  {
   "cell_type": "markdown",
   "metadata": {
    "id": "Ibir6DNez8Ox"
   },
   "source": [
    "- The missing values have been filled with the mean and mode of the respective columns.\n",
    "\n",
    "- The reason for this is that the mean and mode are the most common values in the respective columns.\n",
    "\n",
    "- The mean is used for numeric columns and the mode for categorical columns.\n",
    "\n",
    "- The reason for this is that the mean is a more accurate representation of the data than the mode.\n",
    "\n",
    "- The mode is used for categorical columns because the mean is not a valid representation of the data in these columns.\n",
    "\n",
    "- The mean is not a valid representation of the data in these columns because the mean is a numerical value and the data in these columns are categorical values."
   ]
  },
  {
   "cell_type": "code",
   "execution_count": 14,
   "metadata": {
    "id": "Uc1t4fsgYtYY"
   },
   "outputs": [],
   "source": [
    "# change date_created and date_last_seen to datetime\n",
    "df['date_created'] = pd.to_datetime(df['date_created'])\n",
    "df['date_last_seen'] = pd.to_datetime(df['date_last_seen'])"
   ]
  },
  {
   "cell_type": "markdown",
   "metadata": {
    "id": "8B8rSJHMVZze"
   },
   "source": [
    "we change the date_created and date_last_seen columns to datetime because we want to be able to work with the data in these columns. "
   ]
  },
  {
   "cell_type": "code",
   "execution_count": 15,
   "metadata": {
    "id": "9gbnveEqYz-u"
   },
   "outputs": [],
   "source": [
    "# change manufacture_year to int\n",
    "df['manufacture_year'] = df['manufacture_year'].astype('int64')"
   ]
  },
  {
   "cell_type": "markdown",
   "metadata": {
    "id": "GwG4hK3W0jNf"
   },
   "source": [
    "we change the manufacture_year column to int because float values are not valid for this column"
   ]
  },
  {
   "cell_type": "code",
   "execution_count": 16,
   "metadata": {
    "colab": {
     "base_uri": "https://localhost:8080/"
    },
    "id": "r6JtLMxw1smp",
    "outputId": "f7a511e5-3c88-46c1-e8c3-dfc94f0d3c44"
   },
   "outputs": [
    {
     "name": "stdout",
     "output_type": "stream",
     "text": [
      "<class 'pandas.core.frame.DataFrame'>\n",
      "Int64Index: 3552899 entries, 0 to 3552911\n",
      "Data columns (total 3 columns):\n",
      " #   Column            Dtype              \n",
      "---  ------            -----              \n",
      " 0   manufacture_year  int64              \n",
      " 1   date_last_seen    datetime64[ns, UTC]\n",
      " 2   date_created      datetime64[ns, UTC]\n",
      "dtypes: datetime64[ns, UTC](2), int64(1)\n",
      "memory usage: 108.4 MB\n"
     ]
    }
   ],
   "source": [
    "# check that data has the appreciate type\n",
    "df[['manufacture_year','date_last_seen','date_created']].info()"
   ]
  },
  {
   "cell_type": "markdown",
   "metadata": {
    "id": "Aa5702F5ayqF"
   },
   "source": [
    "# Task 3: Exploratory Data Analysis"
   ]
  },
  {
   "cell_type": "markdown",
   "metadata": {
    "id": "YbWiiuh5a1gI"
   },
   "source": [
    "1. Provide summary statistics for all variables. Find out the potential outliers, if any, for each variable."
   ]
  },
  {
   "cell_type": "code",
   "execution_count": 17,
   "metadata": {
    "colab": {
     "base_uri": "https://localhost:8080/",
     "height": 297
    },
    "id": "mdl2Nrula3IC",
    "outputId": "a36170a6-5b32-497a-f7ca-4560de9dfcc8",
    "scrolled": true
   },
   "outputs": [
    {
     "data": {
      "text/html": [
       "<div>\n",
       "<style scoped>\n",
       "    .dataframe tbody tr th:only-of-type {\n",
       "        vertical-align: middle;\n",
       "    }\n",
       "\n",
       "    .dataframe tbody tr th {\n",
       "        vertical-align: top;\n",
       "    }\n",
       "\n",
       "    .dataframe thead th {\n",
       "        text-align: right;\n",
       "    }\n",
       "</style>\n",
       "<table border=\"1\" class=\"dataframe\">\n",
       "  <thead>\n",
       "    <tr style=\"text-align: right;\">\n",
       "      <th></th>\n",
       "      <th>mileage</th>\n",
       "      <th>manufacture_year</th>\n",
       "      <th>engine_displacement</th>\n",
       "      <th>engine_power</th>\n",
       "      <th>seat_count</th>\n",
       "      <th>price_eur</th>\n",
       "    </tr>\n",
       "  </thead>\n",
       "  <tbody>\n",
       "    <tr>\n",
       "      <th>count</th>\n",
       "      <td>3.552899e+06</td>\n",
       "      <td>3.552899e+06</td>\n",
       "      <td>3.552899e+06</td>\n",
       "      <td>3.552899e+06</td>\n",
       "      <td>3.552899e+06</td>\n",
       "      <td>3.552899e+06</td>\n",
       "    </tr>\n",
       "    <tr>\n",
       "      <th>mean</th>\n",
       "      <td>1.158134e+05</td>\n",
       "      <td>2.000780e+03</td>\n",
       "      <td>2.043947e+03</td>\n",
       "      <td>9.846775e+01</td>\n",
       "      <td>4.868403e+00</td>\n",
       "      <td>1.625818e+06</td>\n",
       "    </tr>\n",
       "    <tr>\n",
       "      <th>std</th>\n",
       "      <td>3.243172e+05</td>\n",
       "      <td>7.734702e+01</td>\n",
       "      <td>1.755318e+03</td>\n",
       "      <td>4.507818e+01</td>\n",
       "      <td>7.828770e-01</td>\n",
       "      <td>2.025626e+09</td>\n",
       "    </tr>\n",
       "    <tr>\n",
       "      <th>min</th>\n",
       "      <td>0.000000e+00</td>\n",
       "      <td>0.000000e+00</td>\n",
       "      <td>0.000000e+00</td>\n",
       "      <td>1.000000e+00</td>\n",
       "      <td>0.000000e+00</td>\n",
       "      <td>4.000000e-02</td>\n",
       "    </tr>\n",
       "    <tr>\n",
       "      <th>25%</th>\n",
       "      <td>2.350400e+04</td>\n",
       "      <td>2.002000e+03</td>\n",
       "      <td>1.560000e+03</td>\n",
       "      <td>7.400000e+01</td>\n",
       "      <td>4.868403e+00</td>\n",
       "      <td>1.295340e+03</td>\n",
       "    </tr>\n",
       "    <tr>\n",
       "      <th>50%</th>\n",
       "      <td>1.004850e+05</td>\n",
       "      <td>2.008000e+03</td>\n",
       "      <td>1.968000e+03</td>\n",
       "      <td>9.846775e+01</td>\n",
       "      <td>5.000000e+00</td>\n",
       "      <td>7.364910e+03</td>\n",
       "    </tr>\n",
       "    <tr>\n",
       "      <th>75%</th>\n",
       "      <td>1.497900e+05</td>\n",
       "      <td>2.013000e+03</td>\n",
       "      <td>2.043947e+03</td>\n",
       "      <td>1.100000e+02</td>\n",
       "      <td>5.000000e+00</td>\n",
       "      <td>1.628423e+04</td>\n",
       "    </tr>\n",
       "    <tr>\n",
       "      <th>max</th>\n",
       "      <td>9.999999e+06</td>\n",
       "      <td>2.017000e+03</td>\n",
       "      <td>3.276700e+04</td>\n",
       "      <td>2.237000e+03</td>\n",
       "      <td>6.100000e+01</td>\n",
       "      <td>2.706149e+12</td>\n",
       "    </tr>\n",
       "  </tbody>\n",
       "</table>\n",
       "</div>"
      ],
      "text/plain": [
       "            mileage  manufacture_year  engine_displacement  engine_power  \\\n",
       "count  3.552899e+06      3.552899e+06         3.552899e+06  3.552899e+06   \n",
       "mean   1.158134e+05      2.000780e+03         2.043947e+03  9.846775e+01   \n",
       "std    3.243172e+05      7.734702e+01         1.755318e+03  4.507818e+01   \n",
       "min    0.000000e+00      0.000000e+00         0.000000e+00  1.000000e+00   \n",
       "25%    2.350400e+04      2.002000e+03         1.560000e+03  7.400000e+01   \n",
       "50%    1.004850e+05      2.008000e+03         1.968000e+03  9.846775e+01   \n",
       "75%    1.497900e+05      2.013000e+03         2.043947e+03  1.100000e+02   \n",
       "max    9.999999e+06      2.017000e+03         3.276700e+04  2.237000e+03   \n",
       "\n",
       "         seat_count     price_eur  \n",
       "count  3.552899e+06  3.552899e+06  \n",
       "mean   4.868403e+00  1.625818e+06  \n",
       "std    7.828770e-01  2.025626e+09  \n",
       "min    0.000000e+00  4.000000e-02  \n",
       "25%    4.868403e+00  1.295340e+03  \n",
       "50%    5.000000e+00  7.364910e+03  \n",
       "75%    5.000000e+00  1.628423e+04  \n",
       "max    6.100000e+01  2.706149e+12  "
      ]
     },
     "execution_count": 17,
     "metadata": {},
     "output_type": "execute_result"
    }
   ],
   "source": [
    "# summary statistics for numeric columns\n",
    "df.describe()"
   ]
  },
  {
   "cell_type": "code",
   "execution_count": 18,
   "metadata": {
    "scrolled": true
   },
   "outputs": [
    {
     "data": {
      "text/html": [
       "<div>\n",
       "<style scoped>\n",
       "    .dataframe tbody tr th:only-of-type {\n",
       "        vertical-align: middle;\n",
       "    }\n",
       "\n",
       "    .dataframe tbody tr th {\n",
       "        vertical-align: top;\n",
       "    }\n",
       "\n",
       "    .dataframe thead th {\n",
       "        text-align: right;\n",
       "    }\n",
       "</style>\n",
       "<table border=\"1\" class=\"dataframe\">\n",
       "  <thead>\n",
       "    <tr style=\"text-align: right;\">\n",
       "      <th></th>\n",
       "      <th>maker</th>\n",
       "      <th>model</th>\n",
       "      <th>body_type</th>\n",
       "      <th>transmission</th>\n",
       "      <th>fuel_type</th>\n",
       "    </tr>\n",
       "  </thead>\n",
       "  <tbody>\n",
       "    <tr>\n",
       "      <th>count</th>\n",
       "      <td>3552899</td>\n",
       "      <td>3552899</td>\n",
       "      <td>3552899</td>\n",
       "      <td>3552899</td>\n",
       "      <td>3552899</td>\n",
       "    </tr>\n",
       "    <tr>\n",
       "      <th>unique</th>\n",
       "      <td>46</td>\n",
       "      <td>1012</td>\n",
       "      <td>9</td>\n",
       "      <td>2</td>\n",
       "      <td>5</td>\n",
       "    </tr>\n",
       "    <tr>\n",
       "      <th>top</th>\n",
       "      <td>skoda</td>\n",
       "      <td>octavia</td>\n",
       "      <td>other</td>\n",
       "      <td>man</td>\n",
       "      <td>gasoline</td>\n",
       "    </tr>\n",
       "    <tr>\n",
       "      <th>freq</th>\n",
       "      <td>832739</td>\n",
       "      <td>1262918</td>\n",
       "      <td>3087195</td>\n",
       "      <td>2763611</td>\n",
       "      <td>2749820</td>\n",
       "    </tr>\n",
       "  </tbody>\n",
       "</table>\n",
       "</div>"
      ],
      "text/plain": [
       "          maker    model body_type transmission fuel_type\n",
       "count   3552899  3552899   3552899      3552899   3552899\n",
       "unique       46     1012         9            2         5\n",
       "top       skoda  octavia     other          man  gasoline\n",
       "freq     832739  1262918   3087195      2763611   2749820"
      ]
     },
     "execution_count": 18,
     "metadata": {},
     "output_type": "execute_result"
    }
   ],
   "source": [
    "# summary statistics for categorical columns\n",
    "df.describe(include=['object'])"
   ]
  },
  {
   "cell_type": "markdown",
   "metadata": {
    "id": "UDOTNYYb0wa4"
   },
   "source": [
    "## Check data for outliers"
   ]
  },
  {
   "cell_type": "code",
   "execution_count": 19,
   "metadata": {
    "colab": {
     "base_uri": "https://localhost:8080/",
     "height": 670
    },
    "id": "jt_4nIDdZxRC",
    "outputId": "09c4aa15-b7c5-49f1-9e49-8e0224951ae8"
   },
   "outputs": [
    {
     "name": "stdout",
     "output_type": "stream",
     "text": [
      "Outliers in the numerical columns:\n"
     ]
    },
    {
     "data": {
      "text/html": [
       "<div>\n",
       "<style scoped>\n",
       "    .dataframe tbody tr th:only-of-type {\n",
       "        vertical-align: middle;\n",
       "    }\n",
       "\n",
       "    .dataframe tbody tr th {\n",
       "        vertical-align: top;\n",
       "    }\n",
       "\n",
       "    .dataframe thead th {\n",
       "        text-align: right;\n",
       "    }\n",
       "</style>\n",
       "<table border=\"1\" class=\"dataframe\">\n",
       "  <thead>\n",
       "    <tr style=\"text-align: right;\">\n",
       "      <th></th>\n",
       "      <th>maker</th>\n",
       "      <th>model</th>\n",
       "      <th>mileage</th>\n",
       "      <th>manufacture_year</th>\n",
       "      <th>engine_displacement</th>\n",
       "      <th>engine_power</th>\n",
       "      <th>body_type</th>\n",
       "      <th>transmission</th>\n",
       "      <th>seat_count</th>\n",
       "      <th>fuel_type</th>\n",
       "      <th>date_created</th>\n",
       "      <th>date_last_seen</th>\n",
       "      <th>price_eur</th>\n",
       "    </tr>\n",
       "  </thead>\n",
       "  <tbody>\n",
       "    <tr>\n",
       "      <th>46</th>\n",
       "      <td>audi</td>\n",
       "      <td>a8</td>\n",
       "      <td>4000.000000</td>\n",
       "      <td>2014</td>\n",
       "      <td>4134.000000</td>\n",
       "      <td>317.000000</td>\n",
       "      <td>other</td>\n",
       "      <td>auto</td>\n",
       "      <td>4.000000</td>\n",
       "      <td>diesel</td>\n",
       "      <td>2015-11-14 18:10:08.564659+00:00</td>\n",
       "      <td>2016-01-27 20:40:15.463610+00:00</td>\n",
       "      <td>98692.30</td>\n",
       "    </tr>\n",
       "    <tr>\n",
       "      <th>245</th>\n",
       "      <td>bmw</td>\n",
       "      <td>octavia</td>\n",
       "      <td>119000.000000</td>\n",
       "      <td>2004</td>\n",
       "      <td>4398.000000</td>\n",
       "      <td>245.000000</td>\n",
       "      <td>other</td>\n",
       "      <td>auto</td>\n",
       "      <td>4.000000</td>\n",
       "      <td>gasoline</td>\n",
       "      <td>2015-11-14 18:55:23.981069+00:00</td>\n",
       "      <td>2016-01-27 20:40:15.463610+00:00</td>\n",
       "      <td>14766.84</td>\n",
       "    </tr>\n",
       "    <tr>\n",
       "      <th>471</th>\n",
       "      <td>ford</td>\n",
       "      <td>mustang</td>\n",
       "      <td>9200.000000</td>\n",
       "      <td>2015</td>\n",
       "      <td>5000.000000</td>\n",
       "      <td>324.000000</td>\n",
       "      <td>other</td>\n",
       "      <td>auto</td>\n",
       "      <td>4.868403</td>\n",
       "      <td>gasoline</td>\n",
       "      <td>2015-11-14 18:55:32.645793+00:00</td>\n",
       "      <td>2016-01-27 20:40:15.463610+00:00</td>\n",
       "      <td>44781.64</td>\n",
       "    </tr>\n",
       "    <tr>\n",
       "      <th>508</th>\n",
       "      <td>mercedes-benz</td>\n",
       "      <td>octavia</td>\n",
       "      <td>54000.000000</td>\n",
       "      <td>2010</td>\n",
       "      <td>4663.000000</td>\n",
       "      <td>320.000000</td>\n",
       "      <td>other</td>\n",
       "      <td>auto</td>\n",
       "      <td>4.000000</td>\n",
       "      <td>gasoline</td>\n",
       "      <td>2015-11-14 18:55:33.816497+00:00</td>\n",
       "      <td>2016-01-27 20:40:15.463610+00:00</td>\n",
       "      <td>58216.14</td>\n",
       "    </tr>\n",
       "    <tr>\n",
       "      <th>518</th>\n",
       "      <td>chevrolet</td>\n",
       "      <td>corvette</td>\n",
       "      <td>43260.000000</td>\n",
       "      <td>2005</td>\n",
       "      <td>5967.000000</td>\n",
       "      <td>297.000000</td>\n",
       "      <td>other</td>\n",
       "      <td>man</td>\n",
       "      <td>2.000000</td>\n",
       "      <td>gasoline</td>\n",
       "      <td>2015-11-14 18:55:34.527550+00:00</td>\n",
       "      <td>2016-01-27 20:40:15.463610+00:00</td>\n",
       "      <td>23316.03</td>\n",
       "    </tr>\n",
       "    <tr>\n",
       "      <th>...</th>\n",
       "      <td>...</td>\n",
       "      <td>...</td>\n",
       "      <td>...</td>\n",
       "      <td>...</td>\n",
       "      <td>...</td>\n",
       "      <td>...</td>\n",
       "      <td>...</td>\n",
       "      <td>...</td>\n",
       "      <td>...</td>\n",
       "      <td>...</td>\n",
       "      <td>...</td>\n",
       "      <td>...</td>\n",
       "      <td>...</td>\n",
       "    </tr>\n",
       "    <tr>\n",
       "      <th>3552776</th>\n",
       "      <td>skoda</td>\n",
       "      <td>fabia</td>\n",
       "      <td>144000.000000</td>\n",
       "      <td>1440</td>\n",
       "      <td>2043.947387</td>\n",
       "      <td>98.467745</td>\n",
       "      <td>other</td>\n",
       "      <td>man</td>\n",
       "      <td>4.868403</td>\n",
       "      <td>gasoline</td>\n",
       "      <td>2017-03-16 18:49:32.504658+00:00</td>\n",
       "      <td>2017-03-16 18:49:32.504658+00:00</td>\n",
       "      <td>1295.34</td>\n",
       "    </tr>\n",
       "    <tr>\n",
       "      <th>3552810</th>\n",
       "      <td>skoda</td>\n",
       "      <td>octavia</td>\n",
       "      <td>115813.376109</td>\n",
       "      <td>1300</td>\n",
       "      <td>1900.000000</td>\n",
       "      <td>98.467745</td>\n",
       "      <td>other</td>\n",
       "      <td>man</td>\n",
       "      <td>4.868403</td>\n",
       "      <td>electric</td>\n",
       "      <td>2017-03-16 18:51:57.367475+00:00</td>\n",
       "      <td>2017-03-16 18:51:57.367475+00:00</td>\n",
       "      <td>1295.34</td>\n",
       "    </tr>\n",
       "    <tr>\n",
       "      <th>3552818</th>\n",
       "      <td>skoda</td>\n",
       "      <td>superb</td>\n",
       "      <td>160000.000000</td>\n",
       "      <td>1600</td>\n",
       "      <td>2000.000000</td>\n",
       "      <td>125.000000</td>\n",
       "      <td>other</td>\n",
       "      <td>man</td>\n",
       "      <td>4.868403</td>\n",
       "      <td>electric</td>\n",
       "      <td>2017-03-16 18:52:41.951796+00:00</td>\n",
       "      <td>2017-03-16 18:52:41.951796+00:00</td>\n",
       "      <td>1295.34</td>\n",
       "    </tr>\n",
       "    <tr>\n",
       "      <th>3552832</th>\n",
       "      <td>skoda</td>\n",
       "      <td>superb</td>\n",
       "      <td>173000.000000</td>\n",
       "      <td>1730</td>\n",
       "      <td>2000.000000</td>\n",
       "      <td>125.000000</td>\n",
       "      <td>other</td>\n",
       "      <td>man</td>\n",
       "      <td>4.868403</td>\n",
       "      <td>electric</td>\n",
       "      <td>2017-03-16 18:53:27.944852+00:00</td>\n",
       "      <td>2017-03-16 18:53:27.944852+00:00</td>\n",
       "      <td>1295.34</td>\n",
       "    </tr>\n",
       "    <tr>\n",
       "      <th>3552835</th>\n",
       "      <td>skoda</td>\n",
       "      <td>fabia</td>\n",
       "      <td>175000.000000</td>\n",
       "      <td>1750</td>\n",
       "      <td>2043.947387</td>\n",
       "      <td>98.467745</td>\n",
       "      <td>other</td>\n",
       "      <td>man</td>\n",
       "      <td>4.868403</td>\n",
       "      <td>gasoline</td>\n",
       "      <td>2017-03-16 18:53:33.483606+00:00</td>\n",
       "      <td>2017-03-16 18:53:33.483606+00:00</td>\n",
       "      <td>1295.34</td>\n",
       "    </tr>\n",
       "  </tbody>\n",
       "</table>\n",
       "<p>140181 rows × 13 columns</p>\n",
       "</div>"
      ],
      "text/plain": [
       "                 maker     model        mileage  manufacture_year  \\\n",
       "46                audi        a8    4000.000000              2014   \n",
       "245                bmw   octavia  119000.000000              2004   \n",
       "471               ford   mustang    9200.000000              2015   \n",
       "508      mercedes-benz   octavia   54000.000000              2010   \n",
       "518          chevrolet  corvette   43260.000000              2005   \n",
       "...                ...       ...            ...               ...   \n",
       "3552776          skoda     fabia  144000.000000              1440   \n",
       "3552810          skoda   octavia  115813.376109              1300   \n",
       "3552818          skoda    superb  160000.000000              1600   \n",
       "3552832          skoda    superb  173000.000000              1730   \n",
       "3552835          skoda     fabia  175000.000000              1750   \n",
       "\n",
       "         engine_displacement  engine_power body_type transmission  seat_count  \\\n",
       "46               4134.000000    317.000000     other         auto    4.000000   \n",
       "245              4398.000000    245.000000     other         auto    4.000000   \n",
       "471              5000.000000    324.000000     other         auto    4.868403   \n",
       "508              4663.000000    320.000000     other         auto    4.000000   \n",
       "518              5967.000000    297.000000     other          man    2.000000   \n",
       "...                      ...           ...       ...          ...         ...   \n",
       "3552776          2043.947387     98.467745     other          man    4.868403   \n",
       "3552810          1900.000000     98.467745     other          man    4.868403   \n",
       "3552818          2000.000000    125.000000     other          man    4.868403   \n",
       "3552832          2000.000000    125.000000     other          man    4.868403   \n",
       "3552835          2043.947387     98.467745     other          man    4.868403   \n",
       "\n",
       "        fuel_type                     date_created  \\\n",
       "46         diesel 2015-11-14 18:10:08.564659+00:00   \n",
       "245      gasoline 2015-11-14 18:55:23.981069+00:00   \n",
       "471      gasoline 2015-11-14 18:55:32.645793+00:00   \n",
       "508      gasoline 2015-11-14 18:55:33.816497+00:00   \n",
       "518      gasoline 2015-11-14 18:55:34.527550+00:00   \n",
       "...           ...                              ...   \n",
       "3552776  gasoline 2017-03-16 18:49:32.504658+00:00   \n",
       "3552810  electric 2017-03-16 18:51:57.367475+00:00   \n",
       "3552818  electric 2017-03-16 18:52:41.951796+00:00   \n",
       "3552832  electric 2017-03-16 18:53:27.944852+00:00   \n",
       "3552835  gasoline 2017-03-16 18:53:33.483606+00:00   \n",
       "\n",
       "                          date_last_seen  price_eur  \n",
       "46      2016-01-27 20:40:15.463610+00:00   98692.30  \n",
       "245     2016-01-27 20:40:15.463610+00:00   14766.84  \n",
       "471     2016-01-27 20:40:15.463610+00:00   44781.64  \n",
       "508     2016-01-27 20:40:15.463610+00:00   58216.14  \n",
       "518     2016-01-27 20:40:15.463610+00:00   23316.03  \n",
       "...                                  ...        ...  \n",
       "3552776 2017-03-16 18:49:32.504658+00:00    1295.34  \n",
       "3552810 2017-03-16 18:51:57.367475+00:00    1295.34  \n",
       "3552818 2017-03-16 18:52:41.951796+00:00    1295.34  \n",
       "3552832 2017-03-16 18:53:27.944852+00:00    1295.34  \n",
       "3552835 2017-03-16 18:53:33.483606+00:00    1295.34  \n",
       "\n",
       "[140181 rows x 13 columns]"
      ]
     },
     "execution_count": 19,
     "metadata": {},
     "output_type": "execute_result"
    }
   ],
   "source": [
    "# use Z-score to find outliear\n",
    "# Calculate the Z-score of each value in the numerical columns\n",
    "z_scores = df[['mileage', 'manufacture_year', 'engine_displacement', 'engine_power', 'price_eur']].apply(\n",
    "    lambda x: (x - x.mean()) / x.std())\n",
    "\n",
    "# Identify outliers as values with a Z-score greater than or less than 3\n",
    "outliers = np.where(np.abs(z_scores) > 3)\n",
    "\n",
    "# Display the outliers\n",
    "print(\"Outliers in the numerical columns:\")\n",
    "df.iloc[outliers[0]]\n",
    "\n"
   ]
  },
  {
   "cell_type": "code",
   "execution_count": 20,
   "metadata": {
    "id": "rDN2W5yFaH4_"
   },
   "outputs": [],
   "source": [
    "# Remove the outliers\n",
    "df = df.drop(df.index[outliers[0]])"
   ]
  },
  {
   "cell_type": "code",
   "execution_count": 21,
   "metadata": {
    "id": "01Z6skpsacG5"
   },
   "outputs": [],
   "source": [
    "# reset index\n",
    "df.reset_index(drop=True, inplace=True)"
   ]
  },
  {
   "cell_type": "code",
   "execution_count": 22,
   "metadata": {
    "colab": {
     "base_uri": "https://localhost:8080/"
    },
    "id": "AVn5Yb8Hw_Le",
    "outputId": "e9373c41-3574-4594-fe54-874c63e6ce2c"
   },
   "outputs": [
    {
     "name": "stdout",
     "output_type": "stream",
     "text": [
      "\n",
      " data shape after cleaning processes is  (3418850, 13)\n"
     ]
    }
   ],
   "source": [
    "print('\\n', \"data shape after cleaning processes is \",df.shape )"
   ]
  },
  {
   "cell_type": "markdown",
   "metadata": {
    "id": "Tc_ONGTva4L0"
   },
   "source": [
    "2. Create a heat map of the correlation matrix that shows correlation coefficients among all the variables in the dataset. What are your observations?"
   ]
  },
  {
   "cell_type": "code",
   "execution_count": 23,
   "metadata": {
    "colab": {
     "base_uri": "https://localhost:8080/",
     "height": 366
    },
    "id": "wSzRk-4Ga_hv",
    "outputId": "167a09f4-73fc-4b33-e685-fc711d0a0e4c"
   },
   "outputs": [
    {
     "data": {
      "image/png": "[encoded data removed]",
      "text/plain": [
       "<Figure size 432x288 with 2 Axes>"
      ]
     },
     "metadata": {
      "needs_background": "light"
     },
     "output_type": "display_data"
    }
   ],
   "source": [
    "# Calculate the correlation matrix\n",
    "corr = df[['mileage', 'manufacture_year', 'engine_displacement', 'engine_power','price_eur']].corr()\n",
    "\n",
    "# Create the heatmap\n",
    "sns.heatmap(corr, annot=True, cmap='viridis')\n",
    "\n",
    "# Show the plot\n",
    "plt.show()"
   ]
  },
  {
   "cell_type": "markdown",
   "metadata": {
    "id": "WsUQVsy-1Etb"
   },
   "source": [
    "- The majority of the numeric columns exhibit low or no correlation, as indicated by the near-zero or negative correlation values. However, there is a notable exception, as engine displacement and engine power exhibit a strong positive correlation, as evidenced by the significant correlation value."
   ]
  },
  {
   "cell_type": "markdown",
   "metadata": {
    "id": "NQlp_qdscOpe"
   },
   "source": [
    "3. Deduct some statistical results from the datasets (at least two results and discuss it in detail)"
   ]
  },
  {
   "cell_type": "code",
   "execution_count": 24,
   "metadata": {
    "colab": {
     "base_uri": "https://localhost:8080/",
     "height": 297
    },
    "id": "HVaX9cR1H6j_",
    "outputId": "359fd332-4ac1-4804-dcb1-db604a53c914"
   },
   "outputs": [
    {
     "data": {
      "text/html": [
       "<div>\n",
       "<style scoped>\n",
       "    .dataframe tbody tr th:only-of-type {\n",
       "        vertical-align: middle;\n",
       "    }\n",
       "\n",
       "    .dataframe tbody tr th {\n",
       "        vertical-align: top;\n",
       "    }\n",
       "\n",
       "    .dataframe thead th {\n",
       "        text-align: right;\n",
       "    }\n",
       "</style>\n",
       "<table border=\"1\" class=\"dataframe\">\n",
       "  <thead>\n",
       "    <tr style=\"text-align: right;\">\n",
       "      <th></th>\n",
       "      <th>mileage</th>\n",
       "      <th>manufacture_year</th>\n",
       "      <th>engine_displacement</th>\n",
       "      <th>engine_power</th>\n",
       "      <th>price_eur</th>\n",
       "    </tr>\n",
       "  </thead>\n",
       "  <tbody>\n",
       "    <tr>\n",
       "      <th>count</th>\n",
       "      <td>3418850</td>\n",
       "      <td>3418850</td>\n",
       "      <td>3418850</td>\n",
       "      <td>3418850</td>\n",
       "      <td>3418850</td>\n",
       "    </tr>\n",
       "    <tr>\n",
       "      <th>mean</th>\n",
       "      <td>99950</td>\n",
       "      <td>2007</td>\n",
       "      <td>1864</td>\n",
       "      <td>95</td>\n",
       "      <td>15508</td>\n",
       "    </tr>\n",
       "    <tr>\n",
       "      <th>std</th>\n",
       "      <td>83773</td>\n",
       "      <td>10</td>\n",
       "      <td>575</td>\n",
       "      <td>34</td>\n",
       "      <td>1322164</td>\n",
       "    </tr>\n",
       "    <tr>\n",
       "      <th>min</th>\n",
       "      <td>0</td>\n",
       "      <td>1769</td>\n",
       "      <td>0</td>\n",
       "      <td>1</td>\n",
       "      <td>0</td>\n",
       "    </tr>\n",
       "    <tr>\n",
       "      <th>25%</th>\n",
       "      <td>23287</td>\n",
       "      <td>2002</td>\n",
       "      <td>1560</td>\n",
       "      <td>74</td>\n",
       "      <td>1400</td>\n",
       "    </tr>\n",
       "    <tr>\n",
       "      <th>50%</th>\n",
       "      <td>100000</td>\n",
       "      <td>2008</td>\n",
       "      <td>1968</td>\n",
       "      <td>96</td>\n",
       "      <td>7400</td>\n",
       "    </tr>\n",
       "    <tr>\n",
       "      <th>75%</th>\n",
       "      <td>149500</td>\n",
       "      <td>2013</td>\n",
       "      <td>2044</td>\n",
       "      <td>105</td>\n",
       "      <td>15982</td>\n",
       "    </tr>\n",
       "    <tr>\n",
       "      <th>max</th>\n",
       "      <td>1086000</td>\n",
       "      <td>2017</td>\n",
       "      <td>7303</td>\n",
       "      <td>233</td>\n",
       "      <td>999999999</td>\n",
       "    </tr>\n",
       "  </tbody>\n",
       "</table>\n",
       "</div>"
      ],
      "text/plain": [
       "       mileage  manufacture_year  engine_displacement  engine_power  price_eur\n",
       "count  3418850           3418850              3418850       3418850    3418850\n",
       "mean     99950              2007                 1864            95      15508\n",
       "std      83773                10                  575            34    1322164\n",
       "min          0              1769                    0             1          0\n",
       "25%      23287              2002                 1560            74       1400\n",
       "50%     100000              2008                 1968            96       7400\n",
       "75%     149500              2013                 2044           105      15982\n",
       "max    1086000              2017                 7303           233  999999999"
      ]
     },
     "execution_count": 24,
     "metadata": {},
     "output_type": "execute_result"
    }
   ],
   "source": [
    "#Statistical results\n",
    "df[['mileage', 'manufacture_year', 'engine_displacement', 'engine_power', 'price_eur']].describe().round().astype(int)"
   ]
  },
  {
   "cell_type": "markdown",
   "metadata": {
    "id": "qrFNVCb5qxtr"
   },
   "source": [
    "# Statistical deductions\n",
    "\n",
    "- The average mileage of the vehicles is 99950 km.\n",
    "\n",
    "- The average manufacture year of the vehicles is 2007.\n",
    "\n",
    "- The average engine displacement of the vehicles is 1864 cc.\n",
    "\n",
    "- The average engine power of the vehicles is 95 hp.\n",
    "\n",
    "- The standard deviation of the mileage is 83773 km, which indicates that the mileage values are spread out over a large range. This suggests that there is a lot of variability in how the vehicles are used and maintained.\n",
    "\n",
    "- The standard deviation of the manufacture year is 10. Smaller standard deviation indicates that the values are closer together,  which indicates that most of the vehicles were manufactured within a narrow range of years.\n",
    "\n",
    "- The standard deviation of the engine displacement is 575 cc, which indicates that the engine displacement values are spread out over a moderate range.\n",
    "\n",
    "- The standard deviation of the engine power is 34 hp. Smaller standard deviation indicates that the values are closer together, which suggests that most of the vehicles have similar engine power.\n",
    "\n",
    "\n",
    "- The minimum mileage value is 0 km, and the maximum mileage value is 1086000 km.\n",
    "\n",
    "- The minimum manufacture year value is 1769, and the maximum manufacture year value is 2017.\n",
    "\n",
    "- The minimum engine displacement value is 0 cc, and the maximum engine displacement value is 7303 cc.\n",
    "\n",
    "- The minimum engine power value is 1 hp, and the maximum engine power value is 233 hp.\n",
    "\n",
    "- 25% of the vehicles have a mileage of less than 23288 km, 50% of the vehicles have a mileage of less than 100000 km, and 75% of the vehicles have a mileage of less than 149500 km.\n",
    "\n",
    "- 25% of the vehicles were manufactured in 2002 or earlier, 50% of the vehicles were manufactured in 2008 or earlier, and 75% of the vehicles were manufactured in 2013 or earlier.\n",
    "\n",
    "- 25% of the vehicles have an engine displacement of 1560 cc or less, 50% of the vehicles have an engine displacement of 1968 cc or less, and 75% of the vehicles have an engine displacement of 2044 cc or less.\n",
    "\n",
    "- 25% of the vehicles have an engine power of 74 hp or less, 50% of the vehicles have an engine power of 96 hp or less, and 75% of the vehicles have an engine power of 105 hp or less.\n"
   ]
  },
  {
   "cell_type": "markdown",
   "metadata": {
    "id": "ghlYEjpfcVMl"
   },
   "source": [
    "# Task 4: "
   ]
  },
  {
   "cell_type": "markdown",
   "metadata": {
    "id": "0L3wRGtRcYyo"
   },
   "source": [
    "1. Perform the normality test for the data and graphically represent the results. Transform the data if not normally distributed."
   ]
  },
  {
   "cell_type": "code",
   "execution_count": 25,
   "metadata": {
    "colab": {
     "base_uri": "https://localhost:8080/",
     "height": 290
    },
    "id": "RJw2l41EcZ-V",
    "outputId": "af28199c-dcb1-4a7e-fda0-1e63e12e2c85"
   },
   "outputs": [
    {
     "data": {
      "image/png": "[encoded data removed]",
      "text/plain": [
       "<Figure size 432x288 with 1 Axes>"
      ]
     },
     "metadata": {
      "needs_background": "light"
     },
     "output_type": "display_data"
    }
   ],
   "source": [
    "# Perform the normality test on the mileage column\n",
    "from scipy import stats   \n",
    "# Plot the data and normal distribution\n",
    "mileage = df[['mileage']]\n",
    "sns.distplot(mileage, fit=stats.norm, kde=False)\n",
    "plt.show()"
   ]
  },
  {
   "cell_type": "code",
   "execution_count": 26,
   "metadata": {},
   "outputs": [],
   "source": [
    "#Z-score normalization \n",
    "column = df['mileage']\n",
    "normalized_mileage = (column - column.mean()) / column.std()\n",
    "mileage = normalized_mileage"
   ]
  },
  {
   "cell_type": "code",
   "execution_count": 27,
   "metadata": {},
   "outputs": [
    {
     "data": {
      "image/png": "[encoded data removed]",
      "text/plain": [
       "<Figure size 432x288 with 1 Axes>"
      ]
     },
     "metadata": {
      "needs_background": "light"
     },
     "output_type": "display_data"
    }
   ],
   "source": [
    "#Square-Root Transformation \n",
    "transform_mileage = mileage **(1/2)\n",
    "sns.distplot(transform_mileage, fit=stats.norm, kde=False)\n",
    "plt.show()"
   ]
  },
  {
   "cell_type": "code",
   "execution_count": 28,
   "metadata": {
    "colab": {
     "base_uri": "https://localhost:8080/",
     "height": 280
    },
    "id": "LAk4i02Yb3H3",
    "outputId": "16491bdc-f01f-4424-db0f-d2b33e7f8ce2"
   },
   "outputs": [
    {
     "data": {
      "image/png": "[encoded data removed]",
      "text/plain": [
       "<Figure size 432x288 with 1 Axes>"
      ]
     },
     "metadata": {
      "needs_background": "light"
     },
     "output_type": "display_data"
    }
   ],
   "source": [
    "manufacture_year = df['manufacture_year']\n",
    "# Plot the data and normal distribution\n",
    "sns.distplot(manufacture_year, fit=stats.norm, kde=False)\n",
    "plt.show()"
   ]
  },
  {
   "cell_type": "code",
   "execution_count": 29,
   "metadata": {},
   "outputs": [],
   "source": [
    "column = df['manufacture_year']\n",
    "normalized_column = (column - column.mean()) / column.std()\n",
    "df['manufacture_year'] = normalized_column"
   ]
  },
  {
   "cell_type": "code",
   "execution_count": 30,
   "metadata": {
    "id": "1WXNfcYKIQH-"
   },
   "outputs": [
    {
     "data": {
      "image/png": "[encoded data removed]",
      "text/plain": [
       "<Figure size 432x288 with 1 Axes>"
      ]
     },
     "metadata": {
      "needs_background": "light"
     },
     "output_type": "display_data"
    }
   ],
   "source": [
    "\n",
    "transform_manufacture_year = np.log1p(df[\"manufacture_year\"])\n",
    "sns.distplot(transform_manufacture_year, fit=stats.norm, kde=False)\n",
    "plt.show()"
   ]
  },
  {
   "cell_type": "code",
   "execution_count": 31,
   "metadata": {
    "colab": {
     "base_uri": "https://localhost:8080/",
     "height": 280
    },
    "id": "dIpzqNHEKSwZ",
    "outputId": "03d18ded-660a-4af4-f856-70917d73c9c4"
   },
   "outputs": [
    {
     "data": {
      "image/png": "[encoded data removed]",
      "text/plain": [
       "<Figure size 432x288 with 1 Axes>"
      ]
     },
     "metadata": {
      "needs_background": "light"
     },
     "output_type": "display_data"
    }
   ],
   "source": [
    "engine_displacement = df['engine_displacement']\n",
    "# Plot the data and normal distribution\n",
    "sns.distplot(engine_displacement, fit=stats.norm, kde=False)\n",
    "plt.show()"
   ]
  },
  {
   "cell_type": "code",
   "execution_count": 32,
   "metadata": {
    "colab": {
     "base_uri": "https://localhost:8080/",
     "height": 280
    },
    "id": "NJk8CqmcKga9",
    "outputId": "57477c06-9c7c-4af8-cd29-ce35c3b882d2"
   },
   "outputs": [
    {
     "data": {
      "image/png": "[encoded data removed]",
      "text/plain": [
       "<Figure size 432x288 with 1 Axes>"
      ]
     },
     "metadata": {
      "needs_background": "light"
     },
     "output_type": "display_data"
    }
   ],
   "source": [
    "engine_power = df['engine_power']\n",
    "# Plot the data and normal distribution\n",
    "sns.distplot(engine_power, fit=stats.norm, kde=False)\n",
    "plt.show()"
   ]
  },
  {
   "cell_type": "markdown",
   "metadata": {},
   "source": [
    "Here you can see the engine_displacement and engine_power is normally distributed "
   ]
  },
  {
   "cell_type": "markdown",
   "metadata": {
    "id": "xMBSlJQ2cabh"
   },
   "source": [
    "2. Develop any two classification/clustering/Regression models based on your dataset type. Briefly describe the interpretation of each model."
   ]
  },
  {
   "cell_type": "code",
   "execution_count": 33,
   "metadata": {
    "id": "Uf3OIdGSchEm"
   },
   "outputs": [],
   "source": [
    "features_initial = [\"mileage\", \"engine_displacement\", \"engine_power\"]\n",
    "target = \"price_eur\"\n",
    "\n",
    "# with data having 3million rows, we will take a sample of 40000 rows\n",
    "dfsample = df.sample(n=10000, random_state=42) \n",
    "\n",
    "X= dfsample[features_initial].values\n",
    "y= dfsample[target].astype(\"int64\")\n"
   ]
  },
  {
   "cell_type": "code",
   "execution_count": 34,
   "metadata": {
    "id": "-4gnDhqedELT"
   },
   "outputs": [],
   "source": [
    "# Train-test split\n",
    "from sklearn.model_selection import train_test_split\n",
    "X_train, X_test, y_train, y_test = train_test_split(X, y, test_size=0.2, random_state=0)"
   ]
  },
  {
   "cell_type": "code",
   "execution_count": 35,
   "metadata": {},
   "outputs": [],
   "source": [
    "import random\n",
    "random.seed(1234)"
   ]
  },
  {
   "cell_type": "markdown",
   "metadata": {},
   "source": [
    "## Classifier "
   ]
  },
  {
   "cell_type": "code",
   "execution_count": 37,
   "metadata": {},
   "outputs": [
    {
     "name": "stdout",
     "output_type": "stream",
     "text": [
      "rfc_score : 0.1015\n"
     ]
    }
   ],
   "source": [
    "from sklearn.ensemble import RandomForestClassifier\n",
    "from sklearn.metrics import mean_squared_error, r2_score\n",
    "\n",
    "# Build a Random Forest model\n",
    "model_rfc=RandomForestClassifier(n_estimators=10,random_state=1234)\n",
    "# Fit the model\n",
    "model_rfc.fit(X_train, y_train)\n",
    "y_pred = model_rfc.predict(X_test)\n",
    "# Calculate the score for test\n",
    "rfc_score= model_rfc.score(X_test,y_test)\n",
    "\n",
    "print (\"rfc_score :\",rfc_score)\n"
   ]
  },
  {
   "cell_type": "markdown",
   "metadata": {},
   "source": [
    "## Regression"
   ]
  },
  {
   "cell_type": "code",
   "execution_count": 38,
   "metadata": {},
   "outputs": [
    {
     "name": "stdout",
     "output_type": "stream",
     "text": [
      "Logistic Regression MSE:  247380728.8195\n",
      "score:  0.193\n"
     ]
    }
   ],
   "source": [
    "# Build a logistic regression model\n",
    "from sklearn.linear_model import LogisticRegression\n",
    "# solver and max_iter is used to solve the problem (STOP: TOTAL NO. of ITERATIONS REACHED LIMIT)\n",
    "model = LogisticRegression(solver='lbfgs', max_iter=30, random_state=1234)\n",
    "# Fit the model\n",
    "model.fit(X_train, y_train)\n",
    "y_pred = model.predict(X_test)\n",
    "# Calculate the accuracy for test\n",
    "model_mse= mean_squared_error(y_test, y_pred)\n",
    "model_score= model.score(X_test,y_test)\n",
    "print('Logistic Regression MSE: ',model_mse)\n",
    "print(\"score: \", model_score)"
   ]
  },
  {
   "cell_type": "code",
   "execution_count": 39,
   "metadata": {
    "id": "qUri4SkwdhfZ"
   },
   "outputs": [],
   "source": [
    "# Random Forest Regressor\n",
    "from sklearn.ensemble import RandomForestRegressor\n",
    "from sklearn.metrics import mean_squared_error, r2_score\n",
    "\n",
    "rfr = RandomForestRegressor(n_estimators=40,random_state=1234)\n",
    "rfr.fit(X_train, y_train)\n",
    "rfr_pred = rfr.predict(X_test)\n",
    "\n",
    "\n"
   ]
  },
  {
   "cell_type": "code",
   "execution_count": 40,
   "metadata": {
    "colab": {
     "base_uri": "https://localhost:8080/"
    },
    "id": "50r0xUbNcVzL",
    "outputId": "6350e146-891d-43e0-fb48-c4ab50f285a4"
   },
   "outputs": [
    {
     "name": "stdout",
     "output_type": "stream",
     "text": [
      "Random Forest Regressor MSE: 73771417.59761149\n"
     ]
    }
   ],
   "source": [
    "rfr_mse = mean_squared_error(y_test, rfr_pred)\n",
    "print (\"Random Forest Regressor MSE:\", rfr_mse)"
   ]
  },
  {
   "cell_type": "code",
   "execution_count": 41,
   "metadata": {
    "colab": {
     "base_uri": "https://localhost:8080/"
    },
    "id": "Edt_5-jlibAW",
    "outputId": "e0e100d1-ed66-4781-d879-6befe9f7ac89"
   },
   "outputs": [
    {
     "name": "stdout",
     "output_type": "stream",
     "text": [
      "R2 0.536990683788692\n"
     ]
    }
   ],
   "source": [
    "rfr_r2= r2_score(y_test,rfr_pred)\n",
    "print (\"R2\",rfr_r2)"
   ]
  },
  {
   "cell_type": "markdown",
   "metadata": {},
   "source": [
    "The results for the sample data show the performance of a Random Forest Regressor model on a dataset. The mean squared error (MSE) is 73771417.59761149 and the R2 score is 0.536990683788692.\n",
    "\n",
    "in this case, the positive R2 score suggests that the model is  providing a good fit to the data.\n",
    "\n",
    "Overall, the results for the sample data suggest that the Random Forest Regressor model is  performing well on this dataset."
   ]
  },
  {
   "cell_type": "code",
   "execution_count": 42,
   "metadata": {
    "colab": {
     "base_uri": "https://localhost:8080/"
    },
    "id": "b35Zi_NOwlmK",
    "outputId": "19c0aea8-f2f5-4735-dc6a-a55d4b947bc5"
   },
   "outputs": [
    {
     "name": "stdout",
     "output_type": "stream",
     "text": [
      "Gradient Boosting Regressor MSE:  74178113.46157794\n",
      "R2:  0.5344381508428269\n"
     ]
    }
   ],
   "source": [
    "# Gradient Boosting Regressor\n",
    "from sklearn.ensemble import GradientBoostingRegressor\n",
    "gbr = GradientBoostingRegressor(n_estimators=40,random_state=1234)\n",
    "gbr.fit(X_train, y_train)\n",
    "gbr_pred = gbr.predict(X_test)\n",
    "gbr_mse = mean_squared_error(y_test, gbr_pred)\n",
    "gbr_r2 = r2_score(y_test, gbr_pred)\n",
    "print('Gradient Boosting Regressor MSE: ', gbr_mse)\n",
    "print(\"R2: \", gbr_r2)"
   ]
  },
  {
   "cell_type": "markdown",
   "metadata": {},
   "source": [
    "The results for the Gradient Boosting Regressor model show similar trends as the previous Random Forest Regressor model. The mean squared error (MSE) is 74178113.46157794 and the R2 score is 0.5344381508428269.\n",
    "\n",
    "in this case, the positive R2 score suggests that the model is  providing a good fit to the data.\n",
    "\n",
    "Overall, the results for the sample data suggest that the Gradient Boosting Regressor mode is  performing well on this dataset.\n"
   ]
  },
  {
   "cell_type": "markdown",
   "metadata": {
    "id": "uphd_vJCchrS"
   },
   "source": [
    "3. Select one of the developed models and perform hyper-parameter tuning using best combination of model parameters. Compare the optimized model with the initial model and indicate whether the results are statistically significant?"
   ]
  },
  {
   "cell_type": "code",
   "execution_count": 43,
   "metadata": {
    "colab": {
     "background_save": true
    },
    "id": "vPYpX1IWcmE6",
    "outputId": "8bce85a9-a960-450d-b6a7-5c4f6f03823f"
   },
   "outputs": [
    {
     "name": "stdout",
     "output_type": "stream",
     "text": [
      "Best parameters:  {'n_estimators': 75, 'max_depth': 5, 'learning_rate': 0.1}\n",
      "Gradient Boosting Regressor MSE:  67609169.05042931\n"
     ]
    }
   ],
   "source": [
    "from sklearn.model_selection import RandomizedSearchCV\n",
    "\n",
    "# Randomized search for hyperparameter tuning\n",
    "param_dist = {'n_estimators': np.arange(25, 100, 25),\n",
    "              'learning_rate': [0.01, 0.05, 0.1],\n",
    "              'max_depth': [3, 5, 7]}\n",
    "gbr = GradientBoostingRegressor(n_estimators=40,random_state=1234)\n",
    "random_search = RandomizedSearchCV(\n",
    "    gbr, param_distributions=param_dist, n_iter=50, cv=5, scoring='neg_mean_squared_error')\n",
    "random_search.fit(X_train, y_train)\n",
    "\n",
    "# Best hyperparameters\n",
    "print('Best parameters: ', random_search.best_params_)\n",
    "\n",
    "# Evaluate performance on test data\n",
    "gbr_pred = random_search.predict(X_test)\n",
    "gbr_mse = mean_squared_error(y_test, gbr_pred)\n",
    "print('Gradient Boosting Regressor MSE: ', gbr_mse)"
   ]
  },
  {
   "cell_type": "markdown",
   "metadata": {},
   "source": [
    "The model with an MSE of 67609169.05042931 is a significant improvement compared to the previous models, which had MSE values of 73771417.59761149 for Random Forest Regressor and 74178113.46157794 for Gradient Boosting Regressor.\n",
    "A lower MSE value indicates that the model is making more accurate predictions. A lower MSE value also suggests that the difference between the predicted values and the true values is smaller, which is desirable in a predictive model."
   ]
  },
  {
   "cell_type": "code",
   "execution_count": null,
   "metadata": {},
   "outputs": [],
   "source": []
  }
 ],
 "metadata": {
  "colab": {
   "provenance": []
  },
  "kernelspec": {
   "display_name": "Python 3 (ipykernel)",
   "language": "python",
   "name": "python3"
  },
  "language_info": {
   "codemirror_mode": {
    "name": "ipython",
    "version": 3
   },
   "file_extension": ".py",
   "mimetype": "text/x-python",
   "name": "python",
   "nbconvert_exporter": "python",
   "pygments_lexer": "ipython3",
   "version": "3.9.12"
  }
 },
 "nbformat": 4,
 "nbformat_minor": 1
}
